{
 "cells": [
  {
   "cell_type": "markdown",
   "metadata": {},
   "source": [
    "## Task1"
   ]
  },
  {
   "cell_type": "code",
   "execution_count": null,
   "metadata": {},
   "outputs": [],
   "source": [
    "import random\n",
    "\n",
    "a=[]\n",
    "\n",
    "while(True):\n",
    "    k = ''.join(random.sample('01234', 5))\n",
    "    if k not in a:\n",
    "        a.append(k)\n",
    "    else:\n",
    "        print(len(a))\n",
    "    \n",
    "\n",
    "Ans: \n",
    "(C) The digit 2 appears in some position before the digit 3.\n",
    "\n",
    "\n",
    "## code\n",
    "\n",
    "a1=[]\n",
    "for i in a:\n",
    "    if (int(i[1]) == (int(i[0])*2)) and (i[2] < i[4]):\n",
    "        a1.append(i)\n",
    "        \n",
    "len(a1)\n",
    "\n",
    "\n",
    "How many unique codes is it possible to create in accordance with the rules?\n",
    "\n",
    "Ans: 6    "
   ]
  },
  {
   "cell_type": "markdown",
   "metadata": {},
   "source": [
    "## Task2 \n",
    "\n",
    "The corrected query is as below"
   ]
  },
  {
   "cell_type": "code",
   "execution_count": null,
   "metadata": {},
   "outputs": [],
   "source": [
    "WITH daily_data AS (\n",
    "SELECT\n",
    "t1.game,\n",
    "t1.player_segment,\n",
    "date_diff(first_purchase_date, event_date, day) AS days_since_conversion ,\n",
    "COUNT ( 1 ) AS players\n",
    "FROM profile t1\n",
    "LEFT JOIN daily ON t2.player_id = t1.player_id\n",
    "WHERE first_purchase_date IS NOT NULL\n",
    "AND date_diff(first_purchase_date, event_date, day) >= 0\n",
    "GROUP BY 1 , 2, 3)\n",
    "\n",
    "SELECT\n",
    "* ,\n",
    "ROUND ( players * 1.0 / MAX ( players ) OVER ( PARTITION BY player_segment ) , 3 ) AS\n",
    "retention\n",
    "FROM daily_data"
   ]
  },
  {
   "cell_type": "code",
   "execution_count": null,
   "metadata": {},
   "outputs": [],
   "source": []
  },
  {
   "cell_type": "markdown",
   "metadata": {},
   "source": [
    "## Task 3"
   ]
  },
  {
   "cell_type": "code",
   "execution_count": 1,
   "metadata": {},
   "outputs": [],
   "source": [
    "import os\n",
    "import shutil\n",
    "import gzip\n",
    "import pandas as pd\n",
    "\n",
    "filenamesDA = os.listdir(\"data/daily_activity\")\n",
    "\n",
    "dfDailyActivity =  pd.read_csv(\"data/daily_activity/\"+filenamesDA[0], compression='gzip', sep='|', header=None)\n",
    "\n",
    "for file in filenamesDA[1:]:\n",
    "    df = pd.read_csv(\"data/daily_activity/\"+file, compression='gzip', sep='|', header=None)\n",
    "    dfDailyActivity=dfDailyActivity.append(df, ignore_index=True)\n",
    "    \n",
    "    \n",
    "filenamesPro = os.listdir(\"data/profile\")\n",
    "\n",
    "dfProfile =  pd.read_csv(\"data/profile/\"+filenamesPro[0], compression='gzip', sep='|', header=None)\n",
    "\n",
    "for file in filenamesPro[1:]:\n",
    "    df = pd.read_csv(\"data/profile/\"+file, compression='gzip', sep='|', header=None)\n",
    "    dfProfile=dfProfile.append(df, ignore_index=True)\n",
    "    \n",
    "dfDailyActivity.columns=['player_id', 'event_date','num_purchases', 'game']\n",
    "dfProfile.columns=['player_id', 'country_isocode2', 'registration_date', 'operating_system', 'game']"
   ]
  },
  {
   "cell_type": "code",
   "execution_count": 2,
   "metadata": {},
   "outputs": [
    {
     "name": "stdout",
     "output_type": "stream",
     "text": [
      "(451123, 4)\n",
      "(90286, 5)\n"
     ]
    }
   ],
   "source": [
    "print(dfDailyActivity.shape)\n",
    "print(dfProfile.shape)"
   ]
  },
  {
   "cell_type": "code",
   "execution_count": 3,
   "metadata": {
    "scrolled": true
   },
   "outputs": [
    {
     "data": {
      "text/plain": [
       "109"
      ]
     },
     "execution_count": 3,
     "metadata": {},
     "output_type": "execute_result"
    }
   ],
   "source": [
    "dfDailyActivity['event_date'].nunique()"
   ]
  },
  {
   "cell_type": "code",
   "execution_count": 4,
   "metadata": {},
   "outputs": [],
   "source": [
    "dfDailyActivity[\"player_id\"] = dfDailyActivity[\"player_id\"].astype(int)\n",
    "dfDailyActivity[\"event_date\"] = dfDailyActivity[\"event_date\"].astype('datetime64[D]')\n",
    "dfDailyActivity[\"num_purchases\"] = dfDailyActivity[\"num_purchases\"].astype(int)\n",
    "dfDailyActivity[\"game\"] = dfDailyActivity[\"game\"].astype(str)"
   ]
  },
  {
   "cell_type": "code",
   "execution_count": 5,
   "metadata": {},
   "outputs": [
    {
     "data": {
      "text/plain": [
       "109"
      ]
     },
     "execution_count": 5,
     "metadata": {},
     "output_type": "execute_result"
    }
   ],
   "source": [
    "dfDailyActivity['event_date'].nunique()"
   ]
  },
  {
   "cell_type": "code",
   "execution_count": 6,
   "metadata": {
    "scrolled": false
   },
   "outputs": [
    {
     "data": {
      "text/plain": [
       "57"
      ]
     },
     "execution_count": 6,
     "metadata": {},
     "output_type": "execute_result"
    }
   ],
   "source": [
    "dfProfile[\"registration_date\"].nunique()"
   ]
  },
  {
   "cell_type": "code",
   "execution_count": 7,
   "metadata": {},
   "outputs": [],
   "source": [
    "dfProfile[\"player_id\"] = dfProfile[\"player_id\"].astype(int)\n",
    "dfProfile[\"country_isocode2\"] = dfProfile[\"country_isocode2\"].astype(str)\n",
    "dfProfile[\"registration_date\"] = dfProfile[\"registration_date\"].astype('datetime64[D]')\n",
    "dfProfile[\"operating_system\"] = dfProfile[\"operating_system\"].astype(str)\n",
    "dfProfile[\"game\"] = dfProfile[\"game\"].astype(str)"
   ]
  },
  {
   "cell_type": "code",
   "execution_count": 8,
   "metadata": {},
   "outputs": [
    {
     "data": {
      "text/plain": [
       "57"
      ]
     },
     "execution_count": 8,
     "metadata": {},
     "output_type": "execute_result"
    }
   ],
   "source": [
    "dfProfile['registration_date'].nunique()"
   ]
  },
  {
   "cell_type": "markdown",
   "metadata": {},
   "source": [
    "## converting dfProfile & dfDailyActivity into spark dataframes"
   ]
  },
  {
   "cell_type": "code",
   "execution_count": 9,
   "metadata": {},
   "outputs": [],
   "source": [
    "import findspark\n",
    "findspark.init()\n",
    "import pyspark"
   ]
  },
  {
   "cell_type": "code",
   "execution_count": 10,
   "metadata": {},
   "outputs": [],
   "source": [
    "from pyspark.sql import SparkSession\n",
    "from pyspark.conf import SparkConf\n",
    "import pyspark.sql.functions as sqlfunc\n",
    "from pyspark.sql.types import *\n",
    "import argparse, sys\n",
    "from pyspark.sql import *\n",
    "import pandas as pd\n",
    "\n",
    "from pyspark.sql import SQLContext"
   ]
  },
  {
   "cell_type": "code",
   "execution_count": 11,
   "metadata": {
    "scrolled": true
   },
   "outputs": [
    {
     "data": {
      "text/plain": [
       "StructType(List(StructField(player_id,IntegerType,true),StructField(event_date,DateType,true),StructField(num_purchases,IntegerType,true),StructField(game,StringType,true)))"
      ]
     },
     "execution_count": 11,
     "metadata": {},
     "output_type": "execute_result"
    }
   ],
   "source": [
    "spark = SparkSession.builder.appName('pandasToSparkDF').getOrCreate()\n",
    "\n",
    "schemaDA = StructType([ StructField(\"player_id\", IntegerType(), True)\\\n",
    "                       ,StructField(\"event_date\", DateType(), True)\\\n",
    "                       ,StructField(\"num_purchases\", IntegerType(), True)\\\n",
    "                       ,StructField(\"game\", StringType(), True)\n",
    "                       ])\n",
    "schemaDA"
   ]
  },
  {
   "cell_type": "code",
   "execution_count": 12,
   "metadata": {},
   "outputs": [],
   "source": [
    "dfDA = spark.createDataFrame(dfDailyActivity, schemaDA)"
   ]
  },
  {
   "cell_type": "code",
   "execution_count": 13,
   "metadata": {},
   "outputs": [
    {
     "name": "stdout",
     "output_type": "stream",
     "text": [
      "+---------+----------+-------------+-----+\n",
      "|player_id|event_date|num_purchases| game|\n",
      "+---------+----------+-------------+-----+\n",
      "|115322121|2019-02-13|            0|game2|\n",
      "|115346943|2019-02-13|            0|game2|\n",
      "|115357941|2019-02-13|            0|game2|\n",
      "|115361044|2019-02-13|            0|game2|\n",
      "|115330832|2019-02-13|            0|game2|\n",
      "|115358080|2019-02-13|            0|game2|\n",
      "|115354682|2019-02-13|            0|game2|\n",
      "|115359804|2019-02-13|            0|game2|\n",
      "|115339114|2019-02-13|            0|game2|\n",
      "|115357683|2019-02-13|            0|game2|\n",
      "|115356136|2019-02-13|            0|game2|\n",
      "|115355058|2019-02-13|            0|game2|\n",
      "|115358430|2019-02-13|            0|game2|\n",
      "|115342610|2019-02-13|            0|game2|\n",
      "|115356011|2019-02-13|            0|game2|\n",
      "|115356155|2019-02-13|            0|game2|\n",
      "|115359952|2019-02-13|            0|game2|\n",
      "|115356191|2019-02-13|            0|game2|\n",
      "|115361093|2019-02-13|            0|game2|\n",
      "|115360439|2019-02-13|            0|game2|\n",
      "+---------+----------+-------------+-----+\n",
      "only showing top 20 rows\n",
      "\n"
     ]
    }
   ],
   "source": [
    "dfDA.show()"
   ]
  },
  {
   "cell_type": "code",
   "execution_count": 14,
   "metadata": {},
   "outputs": [],
   "source": [
    "# spark2 = SparkSession.builder.appName('pandasToSparkDF2').getOrCreate()\n",
    "\n",
    "schemaPro = StructType([ StructField(\"player_id\", IntegerType(), True)\\\n",
    "                       ,StructField(\"country_isocode2\", StringType(), True)\\\n",
    "                       ,StructField(\"registration_date\",  DateType(), True)\\\n",
    "                       ,StructField(\"operating_system\", StringType(), True)\\\n",
    "                       ,StructField(\"game\", StringType(), True)\n",
    "                       ])\n",
    "\n",
    "dfPro = spark.createDataFrame(dfProfile,schemaPro)"
   ]
  },
  {
   "cell_type": "code",
   "execution_count": 15,
   "metadata": {
    "scrolled": false
   },
   "outputs": [
    {
     "name": "stdout",
     "output_type": "stream",
     "text": [
      "+---------+----------------+-----------------+----------------+-----+\n",
      "|player_id|country_isocode2|registration_date|operating_system| game|\n",
      "+---------+----------------+-----------------+----------------+-----+\n",
      "|491460239|              US|       2019-03-23|             iOS|game1|\n",
      "|485143893|              RU|       2019-02-17|             iOS|game1|\n",
      "|486693600|              JO|       2019-03-01|         Android|game1|\n",
      "|485646580|              FI|       2019-02-21|             iOS|game1|\n",
      "|492626012|              AT|       2019-04-02|             iOS|game1|\n",
      "|490538066|              GB|       2019-03-15|         Android|game1|\n",
      "|491391993|              CN|       2019-03-23|             iOS|game1|\n",
      "|491708187|              DE|       2019-03-25|             iOS|game1|\n",
      "|489370723|              IE|       2019-03-07|             iOS|game1|\n",
      "|490143493|              DK|       2019-03-12|             iOS|game1|\n",
      "|492845630|              VN|       2019-04-04|         Android|game1|\n",
      "|484663464|              US|       2019-02-14|             iOS|game1|\n",
      "|492918793|              JP|       2019-04-05|             iOS|game1|\n",
      "|488560789|              US|       2019-03-05|             iOS|game1|\n",
      "|486959426|              MA|       2019-03-01|         Android|game1|\n",
      "|489389061|              CR|       2019-03-07|         Android|game1|\n",
      "|486614800|              SE|       2019-03-01|         Android|game1|\n",
      "|492035380|              RU|       2019-03-28|             iOS|game1|\n",
      "|489936597|              US|       2019-03-10|             iOS|game1|\n",
      "|487990770|              AT|       2019-03-03|         Android|game1|\n",
      "+---------+----------------+-----------------+----------------+-----+\n",
      "only showing top 20 rows\n",
      "\n"
     ]
    }
   ],
   "source": [
    "dfPro.show()"
   ]
  },
  {
   "cell_type": "markdown",
   "metadata": {},
   "source": [
    "## SQL statements must be run against a table. Creating a table that's a pointer to the DataFrame"
   ]
  },
  {
   "cell_type": "code",
   "execution_count": 16,
   "metadata": {},
   "outputs": [],
   "source": [
    "dfPro.registerTempTable(\"ProfileTable\")\n",
    "dfDA.registerTempTable(\"DailyActivityTable\")"
   ]
  },
  {
   "cell_type": "markdown",
   "metadata": {},
   "source": [
    "## Query to generate the required table"
   ]
  },
  {
   "cell_type": "code",
   "execution_count": 17,
   "metadata": {
    "scrolled": false
   },
   "outputs": [
    {
     "name": "stdout",
     "output_type": "stream",
     "text": [
      "+-----------------+----------------+-----+----------------+-------+----------+-------------+-------+------------------+------------------+--------------------+\n",
      "|registration_date|country_isocode2| game|operating_system|tot_dnu|event_date|tot_purchases|tot_dau|  d1_count_percent|  d7_count_percent|              appdau|\n",
      "+-----------------+----------------+-----+----------------+-------+----------+-------------+-------+------------------+------------------+--------------------+\n",
      "|       2019-02-11|              IL|game1|             iOS|     13|2019-02-11|            0|     13|7.6923076923076925|7.6923076923076925|                 0.0|\n",
      "|       2019-02-12|              LB|game1|         Android|      1|2019-02-12|            0|      1|             100.0|             100.0|                 0.0|\n",
      "|       2019-02-13|              PE|game2|         Android|      3|2019-02-13|            0|      3| 66.66666666666667| 66.66666666666667|                 0.0|\n",
      "|       2019-02-14|              RU|game1|             iOS|     28|2019-02-14|            0|     45| 53.57142857142857|35.714285714285715|                 0.0|\n",
      "|       2019-02-16|              PH|game1|             iOS|      2|2019-02-16|            0|      7|             100.0|             100.0|                 0.0|\n",
      "|       2019-02-18|              IT|game2|         Android|      5|2019-02-18|            0|     11|              60.0|              40.0|                 0.0|\n",
      "|       2019-02-22|              CA|game2|         Android|      5|2019-02-22|            0|     13|              20.0|              20.0|                 0.0|\n",
      "|       2019-02-22|              GB|game2|             iOS|      5|2019-02-22|            1|     17|              60.0|              20.0|0.058823529411764705|\n",
      "|       2019-02-25|              FI|game1|         Android|     19|2019-02-25|            0|     56| 68.42105263157895| 31.57894736842105|                 0.0|\n",
      "|       2019-02-26|              JP|game1|             iOS|      9|2019-02-26|            0|     20| 55.55555555555556| 44.44444444444444|                 0.0|\n",
      "|       2019-02-28|              GB|game1|             iOS|     24|2019-02-28|            0|     67| 66.66666666666667|45.833333333333336|                 0.0|\n",
      "|       2019-03-01|              BY|game1|         Android|     13|2019-03-01|            0|     18| 46.15384615384615|15.384615384615385|                 0.0|\n",
      "|       2019-03-01|              CH|game1|         Android|     10|2019-03-01|            0|     11|              10.0|              10.0|                 0.0|\n",
      "|       2019-03-03|              CO|game1|         Android|     24|2019-03-03|            0|     31|45.833333333333336|              25.0|                 0.0|\n",
      "|       2019-03-03|              NO|game2|             iOS|      1|2019-03-03|            0|      5|             100.0|             100.0|                 0.0|\n",
      "|       2019-03-03|              US|game2|         Android|    118|2019-03-03|           21|    367| 35.59322033898305| 27.11864406779661| 0.05722070844686648|\n",
      "|       2019-03-05|              MX|game2|             iOS|      2|2019-03-05|            0|     10|             100.0|             100.0|                 0.0|\n",
      "|       2019-03-06|              NO|game1|         Android|      1|2019-03-06|            0|      2|             100.0|             100.0|                 0.0|\n",
      "|       2019-03-09|              UA|game2|             iOS|      2|2019-03-09|            0|      7|             100.0|             100.0|                 0.0|\n",
      "|       2019-03-11|              BA|game1|         Android|      1|2019-03-11|            0|      2|             100.0|             100.0|                 0.0|\n",
      "+-----------------+----------------+-----+----------------+-------+----------+-------------+-------+------------------+------------------+--------------------+\n",
      "only showing top 20 rows\n",
      "\n"
     ]
    }
   ],
   "source": [
    "queryfinal= \"\"\"\n",
    "\n",
    "WITH table0 as \n",
    "\n",
    "(select t1.player_id,t1.event_date, t1.num_purchases, t1.game,\n",
    "t2.country_isocode2, t2.registration_date, t2.operating_system\n",
    "\n",
    "from DailyActivityTable t1\n",
    "left join ProfileTable t2\n",
    "ON t1.player_id=t2.player_id and\n",
    "t1.game=t2.game\n",
    ")\n",
    ", dnu as (\n",
    "\n",
    "select\n",
    "registration_date, country_isocode2, game, operating_system,\n",
    "count(distinct player_id) as tot_dnu\n",
    "from table0\n",
    "group by registration_date, country_isocode2, game, operating_system\n",
    ")\n",
    ",dau as (\n",
    "\n",
    "select \n",
    "event_date, country_isocode2, game, operating_system,\n",
    "SUM(num_purchases) as tot_purchases, count(distinct player_id) as tot_dau \n",
    "from table0\n",
    "group by event_date, country_isocode2, game, operating_system\n",
    ")\n",
    "\n",
    ", d1_retention as (\n",
    "\n",
    "select COUNT( distinct player_id) *100/ MAX(dnu.tot_dnu)  as d1_count_percent, table0.registration_date, table0.country_isocode2, table0.game, table0.operating_system\n",
    "from table0,dnu\n",
    "where datediff(event_date, table0.registration_date)>=1\n",
    "and table0.registration_date= dnu.registration_date\n",
    "and table0.country_isocode2 = dnu.country_isocode2\n",
    "and table0.game  = dnu.game \n",
    "and table0.operating_system = dnu.operating_system\n",
    "group by table0.registration_date, table0.country_isocode2, table0.game, table0.operating_system\n",
    "\n",
    ")\n",
    ", d7_retention as (\n",
    "\n",
    "select COUNT( distinct player_id) * 100/ MAX(dnu.tot_dnu)  as d7_count_percent, table0.registration_date, table0.country_isocode2, table0.game, table0.operating_system\n",
    "from table0,dnu\n",
    "where datediff(event_date, table0.registration_date)>=7\n",
    "and table0.registration_date= dnu.registration_date\n",
    "and table0.country_isocode2 = dnu.country_isocode2\n",
    "and table0.game  = dnu.game \n",
    "and table0.operating_system = dnu.operating_system\n",
    "group by table0.registration_date, table0.country_isocode2, table0.game, table0.operating_system\n",
    ")\n",
    "\n",
    ",appdau_ as (\n",
    "\n",
    "select \n",
    "event_date, country_isocode2, game, operating_system,\n",
    "SUM(num_purchases) /count(distinct player_id) as appdau \n",
    "from table0\n",
    "group by event_date, country_isocode2, game, operating_system\n",
    "\n",
    ")\n",
    "\n",
    ", combine as(\n",
    " select dnu.registration_date,dnu.country_isocode2, dnu.game, dnu.operating_system, dnu.tot_dnu,\n",
    " dau.event_date, dau.tot_purchases, dau.tot_dau, d1_retention.d1_count_percent,d7_retention.d7_count_percent, appdau_.appdau\n",
    " from dnu\n",
    " \n",
    " inner join dau on dnu.country_isocode2=dau.country_isocode2 and\n",
    " dnu.game=dau.game and \n",
    " dnu.operating_system= dau.operating_system and dnu.registration_date=dau.event_date \n",
    " \n",
    " inner join d1_retention on dnu.country_isocode2=d1_retention.country_isocode2 and\n",
    " dnu.game=d1_retention.game and \n",
    " dnu.operating_system= d1_retention.operating_system and dnu.registration_date=d1_retention.registration_date \n",
    " \n",
    " inner join d7_retention on dnu.country_isocode2=d7_retention.country_isocode2 and\n",
    " dnu.game=d7_retention.game and \n",
    " dnu.operating_system= d7_retention.operating_system and dnu.registration_date=d7_retention.registration_date \n",
    " \n",
    " inner join appdau_ on dnu.country_isocode2=appdau_.country_isocode2 and\n",
    " dnu.game=appdau_.game and \n",
    " dnu.operating_system= appdau_.operating_system and dnu.registration_date=appdau_.event_date \n",
    " \n",
    ")\n",
    "select * from combine \n",
    "\n",
    "\n",
    "\"\"\"\n",
    "\n",
    "dffinal = spark.sql(queryfinal)\n",
    "dffinal.show()"
   ]
  },
  {
   "cell_type": "code",
   "execution_count": 18,
   "metadata": {
    "scrolled": true
   },
   "outputs": [],
   "source": [
    "df_plot = dffinal.toPandas()"
   ]
  },
  {
   "cell_type": "code",
   "execution_count": 96,
   "metadata": {},
   "outputs": [
    {
     "data": {
      "text/html": [
       "<div>\n",
       "<style scoped>\n",
       "    .dataframe tbody tr th:only-of-type {\n",
       "        vertical-align: middle;\n",
       "    }\n",
       "\n",
       "    .dataframe tbody tr th {\n",
       "        vertical-align: top;\n",
       "    }\n",
       "\n",
       "    .dataframe thead th {\n",
       "        text-align: right;\n",
       "    }\n",
       "</style>\n",
       "<table border=\"1\" class=\"dataframe\">\n",
       "  <thead>\n",
       "    <tr style=\"text-align: right;\">\n",
       "      <th></th>\n",
       "      <th>registration_date</th>\n",
       "      <th>country_isocode2</th>\n",
       "      <th>game</th>\n",
       "      <th>operating_system</th>\n",
       "      <th>tot_dnu</th>\n",
       "      <th>event_date</th>\n",
       "      <th>tot_purchases</th>\n",
       "      <th>tot_dau</th>\n",
       "      <th>d1_count_percent</th>\n",
       "      <th>d7_count_percent</th>\n",
       "      <th>appdau</th>\n",
       "    </tr>\n",
       "  </thead>\n",
       "  <tbody>\n",
       "    <tr>\n",
       "      <th>0</th>\n",
       "      <td>2019-02-11</td>\n",
       "      <td>IL</td>\n",
       "      <td>game1</td>\n",
       "      <td>iOS</td>\n",
       "      <td>13</td>\n",
       "      <td>2019-02-11</td>\n",
       "      <td>0</td>\n",
       "      <td>13</td>\n",
       "      <td>7.692308</td>\n",
       "      <td>7.692308</td>\n",
       "      <td>0.0</td>\n",
       "    </tr>\n",
       "    <tr>\n",
       "      <th>1</th>\n",
       "      <td>2019-02-12</td>\n",
       "      <td>LB</td>\n",
       "      <td>game1</td>\n",
       "      <td>Android</td>\n",
       "      <td>1</td>\n",
       "      <td>2019-02-12</td>\n",
       "      <td>0</td>\n",
       "      <td>1</td>\n",
       "      <td>100.000000</td>\n",
       "      <td>100.000000</td>\n",
       "      <td>0.0</td>\n",
       "    </tr>\n",
       "    <tr>\n",
       "      <th>2</th>\n",
       "      <td>2019-02-13</td>\n",
       "      <td>PE</td>\n",
       "      <td>game2</td>\n",
       "      <td>Android</td>\n",
       "      <td>3</td>\n",
       "      <td>2019-02-13</td>\n",
       "      <td>0</td>\n",
       "      <td>3</td>\n",
       "      <td>66.666667</td>\n",
       "      <td>66.666667</td>\n",
       "      <td>0.0</td>\n",
       "    </tr>\n",
       "    <tr>\n",
       "      <th>3</th>\n",
       "      <td>2019-02-14</td>\n",
       "      <td>RU</td>\n",
       "      <td>game1</td>\n",
       "      <td>iOS</td>\n",
       "      <td>28</td>\n",
       "      <td>2019-02-14</td>\n",
       "      <td>0</td>\n",
       "      <td>45</td>\n",
       "      <td>53.571429</td>\n",
       "      <td>35.714286</td>\n",
       "      <td>0.0</td>\n",
       "    </tr>\n",
       "    <tr>\n",
       "      <th>4</th>\n",
       "      <td>2019-02-16</td>\n",
       "      <td>PH</td>\n",
       "      <td>game1</td>\n",
       "      <td>iOS</td>\n",
       "      <td>2</td>\n",
       "      <td>2019-02-16</td>\n",
       "      <td>0</td>\n",
       "      <td>7</td>\n",
       "      <td>100.000000</td>\n",
       "      <td>100.000000</td>\n",
       "      <td>0.0</td>\n",
       "    </tr>\n",
       "  </tbody>\n",
       "</table>\n",
       "</div>"
      ],
      "text/plain": [
       "  registration_date country_isocode2   game operating_system  tot_dnu  \\\n",
       "0        2019-02-11               IL  game1              iOS       13   \n",
       "1        2019-02-12               LB  game1          Android        1   \n",
       "2        2019-02-13               PE  game2          Android        3   \n",
       "3        2019-02-14               RU  game1              iOS       28   \n",
       "4        2019-02-16               PH  game1              iOS        2   \n",
       "\n",
       "   event_date  tot_purchases  tot_dau  d1_count_percent  d7_count_percent  \\\n",
       "0  2019-02-11              0       13          7.692308          7.692308   \n",
       "1  2019-02-12              0        1        100.000000        100.000000   \n",
       "2  2019-02-13              0        3         66.666667         66.666667   \n",
       "3  2019-02-14              0       45         53.571429         35.714286   \n",
       "4  2019-02-16              0        7        100.000000        100.000000   \n",
       "\n",
       "   appdau  \n",
       "0     0.0  \n",
       "1     0.0  \n",
       "2     0.0  \n",
       "3     0.0  \n",
       "4     0.0  "
      ]
     },
     "execution_count": 96,
     "metadata": {},
     "output_type": "execute_result"
    }
   ],
   "source": [
    "df_plot.head()"
   ]
  },
  {
   "cell_type": "markdown",
   "metadata": {},
   "source": [
    "## Task 5"
   ]
  },
  {
   "cell_type": "code",
   "execution_count": 20,
   "metadata": {},
   "outputs": [],
   "source": [
    "import pandas as pd\n",
    "import matplotlib.pyplot as plt\n",
    "\n",
    "df_ios=df_plot[df_plot['operating_system']=='iOS']\n",
    "df_And=df_plot[df_plot['operating_system']=='Android']\n",
    "df_G1=df_plot[df_plot['game']=='game1']\n",
    "df_G2=df_plot[df_plot['game']=='game2']"
   ]
  },
  {
   "cell_type": "markdown",
   "metadata": {},
   "source": [
    "As we can see we have made 4 different dataframes from the main dataframe df_plot. \n",
    "\n",
    "- **df_ios** is the dataframe containing data with only IOS operating system\n",
    "- **df_And** is the dataframe containing data with only Android operating system\n",
    "- **df_G1**  is the dataframe containing data with only game1 as the game option\n",
    "- **df_G2**  is the dataframe containing data with only game2 as the game option\n",
    "\n",
    "We can see that Game1 in IOS operating system did better than Game2 in Android operating system. "
   ]
  },
  {
   "cell_type": "code",
   "execution_count": 106,
   "metadata": {},
   "outputs": [
    {
     "data": {
      "image/png": "[encoded data removed]",
      "text/plain": [
       "<Figure size 720x720 with 1 Axes>"
      ]
     },
     "metadata": {
      "needs_background": "light"
     },
     "output_type": "display_data"
    }
   ],
   "source": [
    "plt.figure(figsize=(10,10))\n",
    "plt.plot(df_ios['tot_dnu'][0:1000],label='iOS')\n",
    "plt.plot(df_And['tot_dnu'][0:1000],label='Android')\n",
    "plt.plot(df_G1['tot_dnu'][0:1000],label='Game1')\n",
    "plt.plot(df_G2['tot_dnu'][0:1000],label='Game2')\n",
    "plt.ylabel('Total DNU')\n",
    "plt.legend()\n",
    "plt.savefig('Compare.png',dpi=600)"
   ]
  },
  {
   "cell_type": "markdown",
   "metadata": {},
   "source": [
    "- We now check *total_dau* with respect to the games. \n",
    "- The first plot is for game 1 and the second plot is for game 2\n",
    "- We see that game1 did pretty well with higher *tot_dau* than game2"
   ]
  },
  {
   "cell_type": "code",
   "execution_count": 107,
   "metadata": {},
   "outputs": [],
   "source": [
    "# plt.figure(figsize=(10,10))\n",
    "# plt.plot(df_G1['tot_dnu'],label='Game1')\n",
    "# plt.plot(df_G2['tot_dnu'],label='Game2')\n",
    "# plt.legend()\n",
    "# plt.savefig('Compare3.png',dpi=600)"
   ]
  },
  {
   "cell_type": "code",
   "execution_count": 82,
   "metadata": {},
   "outputs": [
    {
     "data": {
      "text/plain": [
       "<matplotlib.axes._subplots.AxesSubplot at 0x266781b7a20>"
      ]
     },
     "execution_count": 82,
     "metadata": {},
     "output_type": "execute_result"
    },
    {
     "data": {
      "image/png": "[encoded data removed]",
      "text/plain": [
       "<Figure size 720x720 with 1 Axes>"
      ]
     },
     "metadata": {
      "needs_background": "light"
     },
     "output_type": "display_data"
    },
    {
     "data": {
      "image/png": "[encoded data removed]",
      "text/plain": [
       "<Figure size 720x720 with 1 Axes>"
      ]
     },
     "metadata": {
      "needs_background": "light"
     },
     "output_type": "display_data"
    }
   ],
   "source": [
    "## for game 1\n",
    "df_G1.plot(x='game', y=['tot_dau'], figsize=(10,10), grid=True)\n",
    "\n",
    "## for game 2\n",
    "df_G2.plot(x='game', y=['tot_dau'], figsize=(10,10), grid=True)"
   ]
  },
  {
   "cell_type": "markdown",
   "metadata": {},
   "source": [
    "- We now check the *tot_purchase* behaviour with respect to Game1 and Game2. Surprisingly Game2 did better in tot_purchases than Game1. The below plot shows with orange lines representing Game2 and blue lnes representing Game1. "
   ]
  },
  {
   "cell_type": "code",
   "execution_count": 100,
   "metadata": {},
   "outputs": [
    {
     "data": {
      "image/png": "[encoded data removed]",
      "text/plain": [
       "<Figure size 720x720 with 1 Axes>"
      ]
     },
     "metadata": {
      "needs_background": "light"
     },
     "output_type": "display_data"
    }
   ],
   "source": [
    "plt.figure(figsize=(10,10))\n",
    "plt.plot(df_G1['tot_purchases'],label='Game1')\n",
    "plt.plot(df_G2['tot_purchases'],label='Game2')\n",
    "plt.legend()\n",
    "plt.savefig('Compare4.png',dpi=600)"
   ]
  },
  {
   "cell_type": "code",
   "execution_count": 103,
   "metadata": {},
   "outputs": [],
   "source": [
    "# df_plot['tot_purchases'].unique()"
   ]
  },
  {
   "cell_type": "code",
   "execution_count": null,
   "metadata": {},
   "outputs": [],
   "source": []
  },
  {
   "cell_type": "markdown",
   "metadata": {},
   "source": [
    "## Task 4\n",
    "\n",
    "**metric_table** is the table we have created in task 3 used in this task"
   ]
  },
  {
   "cell_type": "markdown",
   "metadata": {},
   "source": [
    "## Case -1\n",
    "\n",
    "- Unit testing the sample tables, **Profile** and **DailyActivity** to check if there are any players who fall under the category of *users_entered_but_not_played, users_entered_and_played, users_played_and_not_entered*\n",
    "\n",
    "- **Observation**: We see that 20604 users fall into the category of *users_played_and_not_entered*  - which looks buggy to me "
   ]
  },
  {
   "cell_type": "markdown",
   "metadata": {},
   "source": [
    "select\n",
    "  count(\n",
    "    case\n",
    "      when Profile.player_id is not null\n",
    "      and DailyActivity.player_id is null\n",
    "        then 1\n",
    "      else null\n",
    "    end\n",
    "  )\n",
    "  as users_entered_but_not_played\n",
    "  , count(\n",
    "    case\n",
    "      when Profile.player_id is not null\n",
    "      and DailyActivity.player_id is not null\n",
    "        then 1\n",
    "      else null\n",
    "    end\n",
    "  )\n",
    "  as users_entered_and_played\n",
    "  , count(\n",
    "    case\n",
    "      when Profile.player_id is null\n",
    "      and DailyActivity.player_id is not null\n",
    "        then 1\n",
    "      else null\n",
    "    end\n",
    "  )\n",
    "  as users_played_and_not_entered\n",
    "from\n",
    "  Profile.Profile\n",
    "  full outer join DailyActivity.DailyActivity using (player_id)"
   ]
  },
  {
   "attachments": {
    "case1-unittesting.png": {
     "image/png": "[encoded data removed]"
    }
   },
   "cell_type": "markdown",
   "metadata": {},
   "source": [
    "![case1-unittesting.png](attachment:case1-unittesting.png)"
   ]
  },
  {
   "cell_type": "markdown",
   "metadata": {},
   "source": [
    "## Case-2"
   ]
  },
  {
   "cell_type": "markdown",
   "metadata": {},
   "source": [
    "- Checking the distribution of days it takes to get from entry to conversion. Expected to see numbers greater than 0 which will tell that we are looking at the right time frame for conversion.\n",
    "\n",
    "- **Observation**: This returned no rows which means there are no cases when event_date is before the registration_date\n",
    "\n",
    "- Here **metric_table** is the final table which is obtained in task 3 "
   ]
  },
  {
   "cell_type": "markdown",
   "metadata": {},
   "source": [
    "select\n",
    "  date_diff(event_date  ,  registration_date , day) as days_from_entry_to_conversion\n",
    "  , count(*) as num_entrants\n",
    "from\n",
    "  metric_table\n",
    "  where date_diff(event_date  ,  registration_date , day) <0 \n",
    "group by\n",
    "1"
   ]
  },
  {
   "cell_type": "markdown",
   "metadata": {},
   "source": []
  },
  {
   "cell_type": "markdown",
   "metadata": {},
   "source": [
    "## Case-3\n",
    "\n",
    "- Checking if our query is returning the same d1_retention or d7_retention\n",
    "\n",
    "- Here **table_join** is defined by joining two tables we have on player_id and game\n",
    "\n",
    "- Below is the query of **table_join** :\n",
    "\n",
    "**select t1.player_id,t1.event_date, t1.num_purchases, t1.game,\n",
    "t2.country_isocode2, t2.registration_date, t2.operating_system\n",
    "from DailyActivityTable t1\n",
    "left join ProfileTable t2\n",
    "ON t1.player_id=t2.player_id and\n",
    "t1.game=t2.game**\n",
    "\n",
    "- The dataframe df2 here represents dnu (daily new user) as it is filtered based on a particular *registration_date* *operating_system*, *country_isocode2*, *game*. We see that df2 has 52 unique (distinct) players which says that these players came back one day after install out of total 179 players (as found in distinct df3 players)\n",
    "\n",
    "- Hence the *d1_count_percent* is (52 * 100 )/179 = 29.050279329608937. \n",
    "\n",
    "- We verify this result with querying the same conditions on the final table obtained from task 3. The results are shown below. \n"
   ]
  },
  {
   "cell_type": "code",
   "execution_count": 56,
   "metadata": {},
   "outputs": [],
   "source": [
    "import pandas as pd\n",
    "projectid = \"xxxxx\"\n",
    "dfunitTest = pd.read_gbq(\"select * from DailyActivity.table_join\", projectid)\n",
    "dfunitTest.head()\n",
    "\n",
    "df1=dfunitTest.loc[dfunitTest['operating_system']=='iOS']\n",
    "df1=df1.loc[df1['country_isocode2'] =='US']\n",
    "df1=df1.loc[df1['game']=='game1']\n",
    "df2=df1.loc[df1['registration_date']=='2019-02-10']\n",
    "df3=df2.loc[df1['event_date']=='2019-02-11']"
   ]
  },
  {
   "cell_type": "code",
   "execution_count": 67,
   "metadata": {},
   "outputs": [
    {
     "data": {
      "text/html": [
       "<div>\n",
       "<style scoped>\n",
       "    .dataframe tbody tr th:only-of-type {\n",
       "        vertical-align: middle;\n",
       "    }\n",
       "\n",
       "    .dataframe tbody tr th {\n",
       "        vertical-align: top;\n",
       "    }\n",
       "\n",
       "    .dataframe thead th {\n",
       "        text-align: right;\n",
       "    }\n",
       "</style>\n",
       "<table border=\"1\" class=\"dataframe\">\n",
       "  <thead>\n",
       "    <tr style=\"text-align: right;\">\n",
       "      <th></th>\n",
       "      <th>player_id</th>\n",
       "      <th>event_date</th>\n",
       "      <th>num_purchases</th>\n",
       "      <th>game</th>\n",
       "      <th>country_isocode2</th>\n",
       "      <th>registration_date</th>\n",
       "      <th>operating_system</th>\n",
       "    </tr>\n",
       "  </thead>\n",
       "  <tbody>\n",
       "    <tr>\n",
       "      <th>20648</th>\n",
       "      <td>484238848</td>\n",
       "      <td>2019-02-10</td>\n",
       "      <td>0</td>\n",
       "      <td>game1</td>\n",
       "      <td>US</td>\n",
       "      <td>2019-02-10</td>\n",
       "      <td>iOS</td>\n",
       "    </tr>\n",
       "    <tr>\n",
       "      <th>20649</th>\n",
       "      <td>484238848</td>\n",
       "      <td>2019-02-12</td>\n",
       "      <td>0</td>\n",
       "      <td>game1</td>\n",
       "      <td>US</td>\n",
       "      <td>2019-02-10</td>\n",
       "      <td>iOS</td>\n",
       "    </tr>\n",
       "    <tr>\n",
       "      <th>20740</th>\n",
       "      <td>484198660</td>\n",
       "      <td>2019-02-10</td>\n",
       "      <td>0</td>\n",
       "      <td>game1</td>\n",
       "      <td>US</td>\n",
       "      <td>2019-02-10</td>\n",
       "      <td>iOS</td>\n",
       "    </tr>\n",
       "    <tr>\n",
       "      <th>21171</th>\n",
       "      <td>484100361</td>\n",
       "      <td>2019-02-10</td>\n",
       "      <td>0</td>\n",
       "      <td>game1</td>\n",
       "      <td>US</td>\n",
       "      <td>2019-02-10</td>\n",
       "      <td>iOS</td>\n",
       "    </tr>\n",
       "    <tr>\n",
       "      <th>21275</th>\n",
       "      <td>484195595</td>\n",
       "      <td>2019-02-10</td>\n",
       "      <td>0</td>\n",
       "      <td>game1</td>\n",
       "      <td>US</td>\n",
       "      <td>2019-02-10</td>\n",
       "      <td>iOS</td>\n",
       "    </tr>\n",
       "  </tbody>\n",
       "</table>\n",
       "</div>"
      ],
      "text/plain": [
       "       player_id event_date  num_purchases   game country_isocode2  \\\n",
       "20648  484238848 2019-02-10              0  game1               US   \n",
       "20649  484238848 2019-02-12              0  game1               US   \n",
       "20740  484198660 2019-02-10              0  game1               US   \n",
       "21171  484100361 2019-02-10              0  game1               US   \n",
       "21275  484195595 2019-02-10              0  game1               US   \n",
       "\n",
       "      registration_date operating_system  \n",
       "20648        2019-02-10              iOS  \n",
       "20649        2019-02-10              iOS  \n",
       "20740        2019-02-10              iOS  \n",
       "21171        2019-02-10              iOS  \n",
       "21275        2019-02-10              iOS  "
      ]
     },
     "execution_count": 67,
     "metadata": {},
     "output_type": "execute_result"
    }
   ],
   "source": [
    "df2.head()"
   ]
  },
  {
   "cell_type": "code",
   "execution_count": 68,
   "metadata": {},
   "outputs": [
    {
     "data": {
      "text/html": [
       "<div>\n",
       "<style scoped>\n",
       "    .dataframe tbody tr th:only-of-type {\n",
       "        vertical-align: middle;\n",
       "    }\n",
       "\n",
       "    .dataframe tbody tr th {\n",
       "        vertical-align: top;\n",
       "    }\n",
       "\n",
       "    .dataframe thead th {\n",
       "        text-align: right;\n",
       "    }\n",
       "</style>\n",
       "<table border=\"1\" class=\"dataframe\">\n",
       "  <thead>\n",
       "    <tr style=\"text-align: right;\">\n",
       "      <th></th>\n",
       "      <th>player_id</th>\n",
       "      <th>event_date</th>\n",
       "      <th>num_purchases</th>\n",
       "      <th>game</th>\n",
       "      <th>country_isocode2</th>\n",
       "      <th>registration_date</th>\n",
       "      <th>operating_system</th>\n",
       "    </tr>\n",
       "  </thead>\n",
       "  <tbody>\n",
       "    <tr>\n",
       "      <th>21292</th>\n",
       "      <td>484247564</td>\n",
       "      <td>2019-02-11</td>\n",
       "      <td>0</td>\n",
       "      <td>game1</td>\n",
       "      <td>US</td>\n",
       "      <td>2019-02-10</td>\n",
       "      <td>iOS</td>\n",
       "    </tr>\n",
       "    <tr>\n",
       "      <th>21361</th>\n",
       "      <td>484196624</td>\n",
       "      <td>2019-02-11</td>\n",
       "      <td>0</td>\n",
       "      <td>game1</td>\n",
       "      <td>US</td>\n",
       "      <td>2019-02-10</td>\n",
       "      <td>iOS</td>\n",
       "    </tr>\n",
       "    <tr>\n",
       "      <th>21387</th>\n",
       "      <td>484116753</td>\n",
       "      <td>2019-02-11</td>\n",
       "      <td>1</td>\n",
       "      <td>game1</td>\n",
       "      <td>US</td>\n",
       "      <td>2019-02-10</td>\n",
       "      <td>iOS</td>\n",
       "    </tr>\n",
       "    <tr>\n",
       "      <th>21900</th>\n",
       "      <td>484100891</td>\n",
       "      <td>2019-02-11</td>\n",
       "      <td>0</td>\n",
       "      <td>game1</td>\n",
       "      <td>US</td>\n",
       "      <td>2019-02-10</td>\n",
       "      <td>iOS</td>\n",
       "    </tr>\n",
       "    <tr>\n",
       "      <th>22516</th>\n",
       "      <td>484250407</td>\n",
       "      <td>2019-02-11</td>\n",
       "      <td>0</td>\n",
       "      <td>game1</td>\n",
       "      <td>US</td>\n",
       "      <td>2019-02-10</td>\n",
       "      <td>iOS</td>\n",
       "    </tr>\n",
       "  </tbody>\n",
       "</table>\n",
       "</div>"
      ],
      "text/plain": [
       "       player_id event_date  num_purchases   game country_isocode2  \\\n",
       "21292  484247564 2019-02-11              0  game1               US   \n",
       "21361  484196624 2019-02-11              0  game1               US   \n",
       "21387  484116753 2019-02-11              1  game1               US   \n",
       "21900  484100891 2019-02-11              0  game1               US   \n",
       "22516  484250407 2019-02-11              0  game1               US   \n",
       "\n",
       "      registration_date operating_system  \n",
       "21292        2019-02-10              iOS  \n",
       "21361        2019-02-10              iOS  \n",
       "21387        2019-02-10              iOS  \n",
       "21900        2019-02-10              iOS  \n",
       "22516        2019-02-10              iOS  "
      ]
     },
     "execution_count": 68,
     "metadata": {},
     "output_type": "execute_result"
    }
   ],
   "source": [
    "df3.head()"
   ]
  },
  {
   "cell_type": "code",
   "execution_count": 58,
   "metadata": {},
   "outputs": [
    {
     "data": {
      "text/plain": [
       "52"
      ]
     },
     "execution_count": 58,
     "metadata": {},
     "output_type": "execute_result"
    }
   ],
   "source": [
    "k = df3['player_id'].nunique()\n",
    "k"
   ]
  },
  {
   "cell_type": "code",
   "execution_count": 60,
   "metadata": {},
   "outputs": [
    {
     "data": {
      "text/plain": [
       "179"
      ]
     },
     "execution_count": 60,
     "metadata": {},
     "output_type": "execute_result"
    }
   ],
   "source": [
    "df2['player_id'].nunique()"
   ]
  },
  {
   "cell_type": "code",
   "execution_count": 69,
   "metadata": {},
   "outputs": [
    {
     "data": {
      "text/plain": [
       "29.050279329608937"
      ]
     },
     "execution_count": 69,
     "metadata": {},
     "output_type": "execute_result"
    }
   ],
   "source": [
    "52*100/179"
   ]
  },
  {
   "cell_type": "code",
   "execution_count": null,
   "metadata": {},
   "outputs": [],
   "source": []
  },
  {
   "cell_type": "markdown",
   "metadata": {},
   "source": [
    "### querying the table obtained from task 3"
   ]
  },
  {
   "cell_type": "code",
   "execution_count": 64,
   "metadata": {},
   "outputs": [
    {
     "name": "stdout",
     "output_type": "stream",
     "text": [
      "+------------------+\n",
      "|  d1_count_percent|\n",
      "+------------------+\n",
      "|29.050279329608937|\n",
      "+------------------+\n",
      "\n"
     ]
    }
   ],
   "source": [
    "queryValidation = \"\"\"\n",
    "\n",
    "WITH table0 as \n",
    "\n",
    "(select t1.player_id,t1.event_date, t1.num_purchases, t1.game,\n",
    "t2.country_isocode2, t2.registration_date, t2.operating_system\n",
    "\n",
    "from DailyActivityTable t1\n",
    "left join ProfileTable t2\n",
    "ON t1.player_id=t2.player_id and\n",
    "t1.game=t2.game\n",
    ")\n",
    ", dnu as (\n",
    "\n",
    "select\n",
    "registration_date, country_isocode2, game, operating_system,\n",
    "count(distinct player_id) as tot_dnu\n",
    "from table0\n",
    "group by registration_date, country_isocode2, game, operating_system\n",
    ")\n",
    ",dau as (\n",
    "\n",
    "select \n",
    "event_date, country_isocode2, game, operating_system,\n",
    "SUM(num_purchases) as tot_purchases, count(distinct player_id) as tot_dau \n",
    "from table0\n",
    "group by event_date, country_isocode2, game, operating_system\n",
    ")\n",
    "\n",
    ", d1_retention as (\n",
    "\n",
    "select COUNT( distinct player_id) *100/ MAX(dnu.tot_dnu)  as d1_count_percent, table0.registration_date, table0.country_isocode2, table0.game, table0.operating_system\n",
    "from table0,dnu\n",
    "where datediff(event_date, table0.registration_date)=1\n",
    "and table0.registration_date= dnu.registration_date\n",
    "and table0.country_isocode2 = dnu.country_isocode2\n",
    "and table0.game  = dnu.game \n",
    "and table0.operating_system = dnu.operating_system\n",
    "group by table0.registration_date, table0.country_isocode2, table0.game, table0.operating_system\n",
    "\n",
    ")\n",
    ", d7_retention as (\n",
    "\n",
    "select COUNT( distinct player_id) * 100/ MAX(dnu.tot_dnu)  as d7_count_percent, table0.registration_date, table0.country_isocode2, table0.game, table0.operating_system\n",
    "from table0,dnu\n",
    "where datediff(event_date, table0.registration_date)=7\n",
    "and table0.registration_date= dnu.registration_date\n",
    "and table0.country_isocode2 = dnu.country_isocode2\n",
    "and table0.game  = dnu.game \n",
    "and table0.operating_system = dnu.operating_system\n",
    "group by table0.registration_date, table0.country_isocode2, table0.game, table0.operating_system\n",
    ")\n",
    ",appdau_ as (\n",
    "\n",
    "select \n",
    "event_date, country_isocode2, game, operating_system,\n",
    "SUM(num_purchases) /count(distinct player_id) as appdau \n",
    "from table0\n",
    "group by event_date, country_isocode2, game, operating_system\n",
    "\n",
    ")\n",
    "\n",
    "\n",
    ", combine as(\n",
    " select dnu.registration_date,dnu.country_isocode2, dnu.game, dnu.operating_system, dnu.tot_dnu,\n",
    " dau.event_date, dau.tot_purchases, dau.tot_dau, d1_retention.d1_count_percent,d7_retention.d7_count_percent, appdau_.appdau\n",
    " from dnu\n",
    " \n",
    " inner join dau on dnu.country_isocode2=dau.country_isocode2 and\n",
    " dnu.game=dau.game and \n",
    " dnu.operating_system= dau.operating_system and dnu.registration_date=dau.event_date \n",
    " \n",
    " inner join d1_retention on dnu.country_isocode2=d1_retention.country_isocode2 and\n",
    " dnu.game=d1_retention.game and \n",
    " dnu.operating_system= d1_retention.operating_system and dnu.registration_date=d1_retention.registration_date \n",
    " \n",
    " inner join d7_retention on dnu.country_isocode2=d7_retention.country_isocode2 and\n",
    " dnu.game=d7_retention.game and \n",
    " dnu.operating_system= d7_retention.operating_system and dnu.registration_date=d7_retention.registration_date \n",
    " \n",
    " inner join appdau_ on dnu.country_isocode2=appdau_.country_isocode2 and\n",
    " dnu.game=appdau_.game and \n",
    " dnu.operating_system= appdau_.operating_system and dnu.registration_date=appdau_.event_date \n",
    " \n",
    ")\n",
    "\n",
    "select d1_count_percent from combine\n",
    "where registration_date= '2019-02-10' and game = 'game1' and country_isocode2='US' and operating_system='iOS'\n",
    "\n",
    "\"\"\"\n",
    "\n",
    "dfValidation = spark.sql(queryValidation)\n",
    "dfValidation.show()"
   ]
  },
  {
   "cell_type": "markdown",
   "metadata": {},
   "source": [
    " ## Thank you "
   ]
  },
  {
   "cell_type": "markdown",
   "metadata": {},
   "source": [
    "<img src=\"angry-birds.png\" />"
   ]
  },
  {
   "cell_type": "code",
   "execution_count": null,
   "metadata": {},
   "outputs": [],
   "source": []
  },
  {
   "cell_type": "code",
   "execution_count": null,
   "metadata": {},
   "outputs": [],
   "source": []
  }
 ],
 "metadata": {
  "kernelspec": {
   "display_name": "TensorFlow-GPU",
   "language": "python",
   "name": "tf-gpu"
  },
  "language_info": {
   "codemirror_mode": {
    "name": "ipython",
    "version": 3
   },
   "file_extension": ".py",
   "mimetype": "text/x-python",
   "name": "python",
   "nbconvert_exporter": "python",
   "pygments_lexer": "ipython3",
   "version": "3.6.6"
  }
 },
 "nbformat": 4,
 "nbformat_minor": 2
}
